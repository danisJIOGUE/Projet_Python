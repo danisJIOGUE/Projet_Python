{
 "cells": [
  {
   "cell_type": "markdown",
   "metadata": {},
   "source": [
    "# Prediction du risque de défaut des clients d'une microfinance à but non lucratif : Cas de Kiva"
   ]
  },
  {
   "cell_type": "markdown",
   "metadata": {},
   "source": [
    "# Cadre général de l'étude et présentation de la thématique\n",
    "\n",
    "L'ENSAE est l'une des principales Grandes Écoles françaises spécialisée en Économie, Data Science, Sciences Sociales Quantitatives, Finance et Actuariat. Parmi les enseignements fondamentaux de cette École, figurent les compétences informatiques pour lesquelles le cours \"Python pour le data scientist/économiste\" est administré aux étudiants de deuxième année.\n",
    "\n",
    "Il s'agit de les initier à la manipulation, la visualisation et la modélisation de données en Python, langage aujourd'hui très présent chez les scientifiques. Dans le but de confronter les enseignements reçus à des problématiques réelles, des thématiques et bases de données à analyser sous forme de projets ont été demandées aux étudiants répartis en groupes de deux (02) ou de trois (03).\n",
    "\n",
    "C'est dans ce cadre que nous avons choisi, avec l'accord des enseignants, de travailler sur du credit scoring sur une base de la microfinance à but non lucratif Kiva collectée sur leur site internet (lien) le (date de collecte de la base et autres informations nécessaires)."
   ]
  },
  {
   "cell_type": "markdown",
   "metadata": {},
   "source": [
    "# Cadre théorique de l'étude\n",
    "\n",
    "Avant de se lancer dans les analyses proprement dites, il convient de présenter le concept de la microfinance à but non lucratif qui pourrait être nouveau pour beaucoup, d'expliquer succintement le fonctionnement de Kiva, de récapituler quelques travaux sur le credit scoring ayant inspiré la méthodologie que nous avons adopté et de dérouler cette méthodologie.\n",
    "\n",
    "## Généralités sur la microfinance à but non lucratif et le credit scoring\n",
    "\n",
    "### Le credit scoring\n",
    "\n",
    "Lorsqu’un agent (individu, ménage, entreprise, établissement de crédit) octroie un prêt à un autre agent, il existe toujours pour le prêteur un risque appelé risque de crédit. C’est un concept très important et très courant dans les établissements financiers, pour lequel de nombreux auteurs ont proposé des définitions pouvant être synthétisées comme suit : le risque de crédit est le risque de non-remboursement de ses dettes par un emprunteur défaillant.\n",
    "\n",
    "Dans les établissements de crédit, le recours au credit scoring est une pratique très populaire permettant d’évaluer, de mesurer, de quantifier le risque de crédit. Ainsi, avant de passer au credit scoring proprement dit, la notion de risque de crédit sera présentée. Cette section sera clôturée par un exposé de l’intervention du data mining dans le processus du credit scoring."
   ]
  }
 ],
 "metadata": {
  "kernelspec": {
   "display_name": "Python 3",
   "language": "python",
   "name": "python3"
  },
  "language_info": {
   "codemirror_mode": {
    "name": "ipython",
    "version": 3
   },
   "file_extension": ".py",
   "mimetype": "text/x-python",
   "name": "python",
   "nbconvert_exporter": "python",
   "pygments_lexer": "ipython3",
   "version": "3.8.3"
  }
 },
 "nbformat": 4,
 "nbformat_minor": 4
}
