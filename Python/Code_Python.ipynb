{
 "cells": [
  {
   "cell_type": "markdown",
   "metadata": {},
   "source": [
    "# Prediction du risque de défaut des clients d'une microfinance à but non lucratif : Cas de Kiva"
   ]
  },
  {
   "cell_type": "markdown",
   "metadata": {},
   "source": [
    "# Cadre général de l'étude\n",
    "\n",
    "En introduction de ce projet, présentons le contexte scolaire dans lequel il est rédigé à l'ENSAE, le contexte professionnel dans lequel il est étudié, ainsi que la problématique traitée et le plan suivant lequel il est présenté.\n",
    "\n",
    "## Contexte scolaire\n",
    "\n",
    "L'ENSAE est l'une des principales Grandes Écoles françaises spécialisée en Économie, Data Science, Sciences Sociales Quantitatives, Finance et Actuariat. Parmi les enseignements fondamentaux de cette École, figurent les compétences informatiques pour lesquelles le cours \"Python pour le data scientist/économiste\" est administré aux étudiants de deuxième année.\n",
    "\n",
    "Il s'agit de les initier à la manipulation, la visualisation et la modélisation de données en Python, langage aujourd'hui très présent chez les scientifiques. Dans le but de confronter les enseignements reçus à des problématiques réelles, des thématiques et bases de données à analyser sous forme de projets ont été demandées aux étudiants répartis en groupes de deux (02) ou de trois (03).\n",
    "\n",
    "C'est dans ce cadre que nous avons choisi, avec l'accord des enseignants, de travailler sur du credit scoring sur une base de la microfinance à but non lucratif Kiva collectée sur leur site internet (lien) le (date de collecte de la base et autres informations nécessaires)."
   ]
  },
  {
   "cell_type": "markdown",
   "metadata": {},
   "source": [
    "## Contexte professionnel (fonctionnement de Kiva)\n",
    "\n",
    "Kiva est une organisation internationale à but non lucratif, plateforme de financement participatif fondée en 2005 à San Francisco en solution au problème de non bancarisation touchant encore 1,7 milliards de personnes dans le monde aujourd'hui (Source: site de Kiva). Elle met en relation des prêteurs (à capacité de financement) et des projets (à besoin de financement). A ce jour, 1,51 millards de prêts ont été financés sur Kiva par 2 921 prêteurs.\n",
    "\n",
    "Deux (02) types de prêteurs se distinguent : d'une part les particuliers, et d'autre part les entreprises, organisations ou fondations partenaires. Aucun d'entre eux ne reçoit d'intérêt, puisqu'aucun intérêt n'est demandé aux emprunteurs. Les prêteurs particuliers n'y gagnent donc rien financièrement, et les partenaires reçoivent parfois de petits frais de service de la part de Kiva. En effet, l'organisation dispose de fonds collectés chaque jour auprès de donateurs, qui leur permettent de rémunérer les 110 employés qui y travaillent, de financer les petits frais de service des partenaires, de prêter directement aux entrepreneurs et de couvrir tous les frais d'opérations liés à leur activité.\n",
    "\n",
    "Par ailleurs, en situation d'incapacité de remboursement d'un prêt, aucun dédommagement n'est assuré par Kiva. Les fournisseurs doivent simplement considérer le solde impayé comme une perte. Pourtant, les institutions financières telles que nous les connaissons (banques, microfinances, etc...), tirent leurs bénéfices des intérêts que les emprunteurs payent au moment du remboursement. Si un prêt est remboursé après le délai, cela constitue un manque à gagner, et s’il n’est pas remboursé, cela constitue en plus une perte de capital lorsqu’aucune véritable garantie de paiement n’est exigée à l’emprunteur.\n",
    "\n",
    "Ainsi, en tant que prêteur (intermédiaire des prêteurs), Kiva est nécessairement confrontée à la problématique de non remboursement des prêts. Toutefois, à la différence des banques et microfinances pour lesquelles le remboursement est une question, non seulement de pérennité mais surtout de rentabilité, Kiva s'y interesse pour limiter les pertes des particuliers prêteurs et de ses partenaires, et ainsi encourager les dons et prêts pour assurer la perrenité de ce service dont l'utilité est évidente.\n",
    "\n",
    "Consciente de cela, Kiva a mis en place un système de sélection et de suivi et évaluation des projets à financer, comme dans les microfinances. Tout d'abord, le système de sélection consiste en l'étude de la faisabilité et de la rentabilité du projet pour lequel le financement est demandé. Seuls les projets jugés fiables et prometteurs sont financés. Après financement, le projet est suivi et évalué par les experts de Kiva pour s'assurer de leur bonne gestion. Et, si l'emprunteur se retrouve tout de même dans la difficulté de rembourser son prêt, le partenaire ou Kiva (le prêteur) rééchelonne le prêt afin de lui faciliter le remboursement.\n",
    "\n",
    "## Problématique\n",
    "\n",
    "Dans le même sillage que le processus de sélection présenté, ce travail se propose de répondre à la question : à qui prêter ? Cette problématique relève du credit scoring et cette étude est conduite, bien qu'en premier lieu dans une optique de mise en pratique de la programmation en language Python, également dans le but d’élaborer un modèle statistique qui puisse permettre de séparer les emprunteurs (projets) potentiels de Kiva entre ceux pour qui des fonds pourraient être collectés et ceux à qui on refuse le financement.\n",
    "\n",
    "\n",
    "Concernant l'aspect \"programmation\", il sera précisément question de :\n",
    "- Webscrapping, etc...\n",
    "\n",
    "\n",
    "Par alleurs, quant à la modélisation, il sera spécifiquement question :\n",
    "- d’analyser les caractéristiques individuelles des emprunteurs (projets) liées à l'échec ;\n",
    "- de dégager le profil des projets qui sont remboursés et le profil de ceux qui ne le sont pas ;\n",
    "- de construire un modèle qui rend compte, sous la forme d’un score, du niveau de risque que représente chaque projet ;\n",
    "- de proposer une échelle de notation des projets suivant leurs scores ;\n",
    "- de proposer une stratégie permettant d’évaluer les projets à l'aide du modèle construit.\n",
    "\n",
    "## Hypothèse\n",
    "\n",
    "Le travail qui sera effectué repose sur l’hypothèse principale qu’il existe une différence dans les caractéristiques des projets qui sont remboursés et de ceux qui ne le sont pas.\n",
    "\n",
    "## Plan du travail"
   ]
  },
  {
   "cell_type": "markdown",
   "metadata": {},
   "source": [
    "# Cadre théorique de l'étude\n",
    "\n",
    "Avant de se lancer dans les analyses proprement dites, il convient de présenter le concept de la microfinance à but non lucratif qui pourrait être nouveau pour beaucoup, d'expliquer succintement le processus d'emprunt chez Kiva, de récapituler quelques travaux sur le credit scoring ayant inspiré la méthodologie que nous avons adopté et de dérouler cette méthodologie.\n",
    "\n",
    "## Généralités sur la microfinance à but non lucratif et le credit scoring\n",
    "\n",
    "### Le credit scoring\n",
    "\n",
    "Lorsqu’un agent (individu, ménage, entreprise, établissement de crédit) octroie un prêt à un autre agent, il existe toujours pour le prêteur un risque appelé risque de crédit. C’est un concept très important et très courant dans les établissements financiers, pour lequel de nombreux auteurs ont proposé des définitions pouvant être synthétisées comme suit : le risque de crédit est le risque de non-remboursement de ses dettes par un emprunteur défaillant.\n",
    "\n",
    "Dans les établissements de crédit, le recours au credit scoring est une pratique très populaire permettant d’évaluer, de mesurer, de quantifier le risque de crédit. Ainsi, avant de passer au credit scoring proprement dit, la notion de risque de crédit sera présentée. Cette section sera clôturée par un exposé de l’intervention du data mining dans le processus du credit scoring."
   ]
  }
 ],
 "metadata": {
  "kernelspec": {
   "display_name": "Python 3",
   "language": "python",
   "name": "python3"
  },
  "language_info": {
   "codemirror_mode": {
    "name": "ipython",
    "version": 3
   },
   "file_extension": ".py",
   "mimetype": "text/x-python",
   "name": "python",
   "nbconvert_exporter": "python",
   "pygments_lexer": "ipython3",
   "version": "3.8.3"
  }
 },
 "nbformat": 4,
 "nbformat_minor": 4
}
