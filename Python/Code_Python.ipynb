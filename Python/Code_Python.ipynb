{
 "cells": [
  {
   "cell_type": "markdown",
   "metadata": {},
   "source": [
    "# Prediction du risque de défaut des clients d'une microfinance à but non lucratif : Cas de Kiva"
   ]
  },
  {
   "cell_type": "code",
   "execution_count": null,
   "metadata": {},
   "outputs": [],
   "source": [
    "# Installation des packages\n",
    "import pandas as pd\n",
    "import numpy as np\n",
    "import os.path\n",
    "from bs4 import BeautifulSoup \n",
    "import lxml\n",
    "import html5lib\n",
    "import requests\n",
    "import zipfile\n",
    "import matplotlib.pyplot as plt\n",
    "import seaborn as sns\n",
    "import missingno as msno\n",
    "from subprocess import check_output\n",
    "from plotnine import *\n",
    "import missingno as msno # check missing value\n",
    "from google.colab import drive\n",
    "import pycountry_convert as pc\n",
    "drive.mount('/content/drive')"
   ]
  },
  {
   "cell_type": "markdown",
   "metadata": {},
   "source": [
    "Dans l'optique de rendre notre travail dynamique, nous avons procéder de deux différentes façon à savoir :\n",
    "\n",
    "**1 - Télécharger les données de la source à notre ordinateur :** Cette étape présente un inconvénient majeur en terme de temps d'éxécution. Son principal avantage est de rendre automitique l'opération de téléchargement et de dezippage de la base de donnée. En outre elle permet également de rendre dynamique le travail dans la mesure où elle permettra quelque soit l'utilisateur d'avoir la dernière version base donnée de la structure Kiva disponible en ligne. Son procédé est le suivant : scrappé la page web contenant le lien de téléchargement de la base donnée. Par suite étant donné que la base est dans un format zip, nous recourrons aux outils de python pour dézippé la base.\n",
    "\n",
    "**2 - Utiliser la la base de donnée de donnée de kiva au 20/10/2020**  disponible en dépôt partagé sur drive. Cette méthode est reputée être très rapide et c'est elle qui sera utilisée dans le cadre de cette présentation."
   ]
  },
  {
   "cell_type": "code",
   "execution_count": null,
   "metadata": {},
   "outputs": [],
   "source": [
    "def importation():\n",
    "    '''Cette fonction, grâce des techniques de webscrapping et zipfile, permet de télécharger la base directement\n",
    "        à sur le site de la structure KIVA'''\n",
    "    \n",
    "    source = requests.get('https://www.kiva.org/build/data-snapshots').text #Récupération de l'adresse\n",
    "    soup = BeautifulSoup(source, 'lxml')\n",
    "    #print(source)\n",
    "    page = soup.find('div', class_ = 'row page-content') #Scrapping de la page pour rechercher l'élt row page-content dans le div\n",
    "    #print(json_link.prettify())\n",
    "    link = []\n",
    "    \n",
    "    for i in page.find_all('a'):\n",
    "        ''' Permet de parcourir l'ensemble des éléments '''\n",
    "        link.append(i['href'])\n",
    "    link[1]\n",
    "    #A ce niveau, nous avons le lien de notre data qui est zippé\n",
    "    \n",
    "    csv_link = requests.get(link[1])\n",
    "    \n",
    "    if(os.path.exists('dataloa')):  #Test si le dossier existe en local autrement le code a déjà été exécuté\n",
    "        with open('data.zip','wb') as f:\n",
    "            f.write(csv_link.content)\n",
    "        #Extraction\n",
    "        loan = zipfile.ZipFile('data.zip')\n",
    "        loan.extractall('data_loan')\n",
    "        loan.close()\n",
    "        \n",
    "        return('data_loan/loans.csv')\n",
    "    else:                         # Dans ce cas, le dossier existe déjà en local\n",
    "        nombre_execution += 1     # Va permettre de créer les dossiers en local avec les noms incrémentés\n",
    "        data = 'data.zip' + str(nombre_execution)\n",
    "        data_loan = 'data_loan' + str(nombre_execution)\n",
    "        with open(data,'wb') as f:\n",
    "            f.write(csv_link.content)\n",
    "        #Extraction\n",
    "        loan = zipfile.ZipFile(data)\n",
    "        loan.extractall(data_loan)\n",
    "        loan.close()\n",
    "        \n",
    "        return(data_loan+'/loans.csv')\n",
    "# A la fin de cette fonction, notre base de donnée data_new est en dépôt local nous pouvons directement l'utiliser avec pd.read_csv"
   ]
  },
  {
   "cell_type": "code",
   "execution_count": null,
   "metadata": {},
   "outputs": [],
   "source": [
    "loan = pd.read_csv(importation())"
   ]
  },
  {
   "cell_type": "code",
   "execution_count": null,
   "metadata": {},
   "outputs": [],
   "source": [
    "loan = pd.read_csv('/content/drive/My Drive/Stat_App/loans.csv', encoding ='ISO-8859-1',  sep=\";\")"
   ]
  },
  {
   "cell_type": "code",
   "execution_count": null,
   "metadata": {},
   "outputs": [],
   "source": []
  },
  {
   "cell_type": "code",
   "execution_count": null,
   "metadata": {},
   "outputs": [],
   "source": []
  },
  {
   "cell_type": "code",
   "execution_count": null,
   "metadata": {},
   "outputs": [],
   "source": []
  },
  {
   "cell_type": "code",
   "execution_count": null,
   "metadata": {},
   "outputs": [],
   "source": []
  },
  {
   "cell_type": "code",
   "execution_count": null,
   "metadata": {},
   "outputs": [],
   "source": []
  },
  {
   "cell_type": "code",
   "execution_count": null,
   "metadata": {},
   "outputs": [],
   "source": []
  }
 ],
 "metadata": {
  "kernelspec": {
   "display_name": "Python 3",
   "language": "python",
   "name": "python3"
  },
  "language_info": {
   "codemirror_mode": {
    "name": "ipython",
    "version": 3
   },
   "file_extension": ".py",
   "mimetype": "text/x-python",
   "name": "python",
   "nbconvert_exporter": "python",
   "pygments_lexer": "ipython3",
   "version": "3.8.5"
  }
 },
 "nbformat": 4,
 "nbformat_minor": 4
}
