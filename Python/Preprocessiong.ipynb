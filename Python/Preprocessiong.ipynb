{
 "cells": [
  {
   "cell_type": "code",
   "execution_count": 33,
   "metadata": {},
   "outputs": [],
   "source": [
    "import pandas as pd\n",
    "import numpy as np\n",
    "import matplotlib.pyplot as plt\n",
    "import seaborn as sns"
   ]
  },
  {
   "cell_type": "code",
   "execution_count": 51,
   "metadata": {
    "scrolled": true
   },
   "outputs": [
    {
     "name": "stdout",
     "output_type": "stream",
     "text": [
      "Collecting missingno\n",
      "  Using cached missingno-0.4.2-py3-none-any.whl (9.7 kB)\n",
      "Requirement already satisfied: seaborn in c:\\users\\pc\\anaconda3\\lib\\site-packages (from missingno) (0.11.0)\n",
      "Requirement already satisfied: scipy in c:\\users\\pc\\anaconda3\\lib\\site-packages (from missingno) (1.5.2)\n",
      "Requirement already satisfied: numpy in c:\\users\\pc\\anaconda3\\lib\\site-packages (from missingno) (1.19.2)\n",
      "Requirement already satisfied: matplotlib in c:\\users\\pc\\anaconda3\\lib\\site-packages (from missingno) (3.3.2)\n",
      "Requirement already satisfied: pandas>=0.23 in c:\\users\\pc\\anaconda3\\lib\\site-packages (from seaborn->missingno) (1.1.3)\n",
      "Requirement already satisfied: certifi>=2020.06.20 in c:\\users\\pc\\anaconda3\\lib\\site-packages (from matplotlib->missingno) (2020.6.20)\n",
      "Requirement already satisfied: kiwisolver>=1.0.1 in c:\\users\\pc\\anaconda3\\lib\\site-packages (from matplotlib->missingno) (1.3.0)\n",
      "Requirement already satisfied: python-dateutil>=2.1 in c:\\users\\pc\\anaconda3\\lib\\site-packages (from matplotlib->missingno) (2.8.1)\n",
      "Requirement already satisfied: pyparsing!=2.0.4,!=2.1.2,!=2.1.6,>=2.0.3 in c:\\users\\pc\\anaconda3\\lib\\site-packages (from matplotlib->missingno) (2.4.7)\n",
      "Requirement already satisfied: cycler>=0.10 in c:\\users\\pc\\anaconda3\\lib\\site-packages (from matplotlib->missingno) (0.10.0)\n",
      "Requirement already satisfied: pillow>=6.2.0 in c:\\users\\pc\\anaconda3\\lib\\site-packages (from matplotlib->missingno) (8.0.1)\n",
      "Requirement already satisfied: pytz>=2017.2 in c:\\users\\pc\\anaconda3\\lib\\site-packages (from pandas>=0.23->seaborn->missingno) (2020.1)\n",
      "Requirement already satisfied: six>=1.5 in c:\\users\\pc\\anaconda3\\lib\\site-packages (from python-dateutil>=2.1->matplotlib->missingno) (1.15.0)\n",
      "Installing collected packages: missingno\n",
      "Successfully installed missingno-0.4.2\n",
      "Note: you may need to restart the kernel to use updated packages.\n"
     ]
    }
   ],
   "source": [
    "pip install missingno"
   ]
  },
  {
   "cell_type": "code",
   "execution_count": 54,
   "metadata": {},
   "outputs": [],
   "source": [
    "import missingno as msno"
   ]
  },
  {
   "cell_type": "code",
   "execution_count": 3,
   "metadata": {},
   "outputs": [],
   "source": [
    "loan = pd.read_csv('loans.csv')"
   ]
  },
  {
   "cell_type": "code",
   "execution_count": 6,
   "metadata": {},
   "outputs": [
    {
     "data": {
      "text/plain": [
       "(1968819, 34)"
      ]
     },
     "execution_count": 6,
     "metadata": {},
     "output_type": "execute_result"
    }
   ],
   "source": [
    "loan.shape"
   ]
  },
  {
   "cell_type": "markdown",
   "metadata": {},
   "source": [
    "Notre base de donnée est constituée de `1 968 819 observations` et `34 variables`. Par suite, nous procèderons à la description des différentes variables de la base."
   ]
  },
  {
   "cell_type": "markdown",
   "metadata": {},
   "source": [
    " **Description des variables de la base de données**\n",
    " \n",
    "* 1 - Loan ID : Identifiant de la transaction\n",
    "* 2 - LOAN_NAME : Nom du prêt\n",
    "* 3 -\tORIGINAL_LANGUAGE : Langue parlée\n",
    "* 4 -\tDESCRIPTION : Le champ de description a différentes sous-catégories\n",
    "* 5 -\tDESCRIPTION_TRANSLATED : Description textuelle du projet en anglais, espagnol, français ou russe\n",
    "* 6 -\tFUNDED_AMOUNT : Montant du prêt acheté par les prêteurs Kiva\n",
    "* 7 -\tLOAN_AMOUNT : Montant du prêt qui a été remboursé\n",
    "* 8 -\tSTATUS : Status du prêt\n",
    "* 9 -\tIMAGE_ID : Image de l'emprunteur\n",
    "* 10 - VIDEO_ID : Vidéo dans les proﬁls de prêt et les écritures de journal\n",
    "* 11 - ACTIVITY_NAME : Activité qui sera réalisée avec le montant financé\n",
    "* 12 - SECTOR_NAME : Secteur industriel auquel appartient l'activité\n",
    "* 13 - LOAN_USE : Brève description textuelle de l'utilisation qui sera faite du capital financé\n",
    "* 14 - COUNTRY_CODE : Code à 2 lettres du pays d'origine de l'emprunteur\n",
    "* 15 - COUNTRY_NAME : Nom du pays de l'emprunteur\n",
    "* 16 - TOWN_NAME : Ville du pays de l'emprunteur\n",
    "* 17 - CURRENCY_POLICY : politique de change\n",
    "* 18 - CURRENCY_EXCHANGE_COVERAGE_RATE : Taux de couverture de change\n",
    "* 19 - CURRENCY : Monnaie\n",
    "* 20 - PARTNER_ID : ID du partenaire de terrain\n",
    "* 21 - POSTED_TIME : Date à laquelle le prêt a été comptabilisé\n",
    "* 22 - PLANNED_EXPIRATION_TIME : L'heure à laquelle le prêt est prévu d'expirer\n",
    "* 23 - DISBURSE_TIME : L'heure à laquelle les fonds du prêt ont été remis aux emprunteurs\n",
    "* 24 - RAISED_TIME : Le temps d'échéance augmenté \n",
    "* 25 - LENDER_TERM : Durée fixée pour le prêteur du prêt\n",
    "* 26 - NUM_LENDERS_TOTAL : Nombre total de prêteur\n",
    "* 27 - NUM_JOURNAL_ENTRIES : Le nombre total d'écritures de journal pour le prêt\n",
    "* 28 - NUM_BULK_ENTRIES : Le nombre total d'entrées automatisées ou «groupées»\n",
    "* 29 - TAGS : Commentaire de l'opération\n",
    "* 30 - BORROWER_NAMES : nom de l'emprunteur\n",
    "* 31 - BORROWER_GENDERS : Genre de de l'emprunteur\n",
    "* 32 - BORROWER_PICTURED : L'emprunteur a-t-il fourni ou non une photo?\n",
    "* 33 - REPAYMENT_INTERVAL : Durée fixée pour le remboursement du prêt\n",
    "* 34 - DISTRIBUTION_MODEL : "
   ]
  },
  {
   "cell_type": "code",
   "execution_count": 7,
   "metadata": {},
   "outputs": [
    {
     "data": {
      "text/html": [
       "<div>\n",
       "<style scoped>\n",
       "    .dataframe tbody tr th:only-of-type {\n",
       "        vertical-align: middle;\n",
       "    }\n",
       "\n",
       "    .dataframe tbody tr th {\n",
       "        vertical-align: top;\n",
       "    }\n",
       "\n",
       "    .dataframe thead th {\n",
       "        text-align: right;\n",
       "    }\n",
       "</style>\n",
       "<table border=\"1\" class=\"dataframe\">\n",
       "  <thead>\n",
       "    <tr style=\"text-align: right;\">\n",
       "      <th></th>\n",
       "      <th>LOAN_ID</th>\n",
       "      <th>LOAN_NAME</th>\n",
       "      <th>ORIGINAL_LANGUAGE</th>\n",
       "      <th>DESCRIPTION</th>\n",
       "      <th>DESCRIPTION_TRANSLATED</th>\n",
       "      <th>FUNDED_AMOUNT</th>\n",
       "      <th>LOAN_AMOUNT</th>\n",
       "      <th>STATUS</th>\n",
       "      <th>IMAGE_ID</th>\n",
       "      <th>VIDEO_ID</th>\n",
       "      <th>...</th>\n",
       "      <th>LENDER_TERM</th>\n",
       "      <th>NUM_LENDERS_TOTAL</th>\n",
       "      <th>NUM_JOURNAL_ENTRIES</th>\n",
       "      <th>NUM_BULK_ENTRIES</th>\n",
       "      <th>TAGS</th>\n",
       "      <th>BORROWER_NAMES</th>\n",
       "      <th>BORROWER_GENDERS</th>\n",
       "      <th>BORROWER_PICTURED</th>\n",
       "      <th>REPAYMENT_INTERVAL</th>\n",
       "      <th>DISTRIBUTION_MODEL</th>\n",
       "    </tr>\n",
       "  </thead>\n",
       "  <tbody>\n",
       "    <tr>\n",
       "      <th>0</th>\n",
       "      <td>1827392</td>\n",
       "      <td>Nelie</td>\n",
       "      <td>English</td>\n",
       "      <td>Nelie is married and works hard to support her...</td>\n",
       "      <td>Nelie is married and works hard to support her...</td>\n",
       "      <td>525.0</td>\n",
       "      <td>525.0</td>\n",
       "      <td>funded</td>\n",
       "      <td>3241689.0</td>\n",
       "      <td>NaN</td>\n",
       "      <td>...</td>\n",
       "      <td>8.0</td>\n",
       "      <td>15</td>\n",
       "      <td>2</td>\n",
       "      <td>1</td>\n",
       "      <td>#Woman-Owned Business</td>\n",
       "      <td>Nelie</td>\n",
       "      <td>female</td>\n",
       "      <td>true</td>\n",
       "      <td>monthly</td>\n",
       "      <td>field_partner</td>\n",
       "    </tr>\n",
       "    <tr>\n",
       "      <th>1</th>\n",
       "      <td>339740</td>\n",
       "      <td>Zoila Rosa</td>\n",
       "      <td>Spanish</td>\n",
       "      <td>La Señora Zoila es socia del banco comunal El ...</td>\n",
       "      <td>Zoila is a member of 'El Cisne' (The Swan) com...</td>\n",
       "      <td>675.0</td>\n",
       "      <td>675.0</td>\n",
       "      <td>funded</td>\n",
       "      <td>878599.0</td>\n",
       "      <td>NaN</td>\n",
       "      <td>...</td>\n",
       "      <td>8.0</td>\n",
       "      <td>23</td>\n",
       "      <td>2</td>\n",
       "      <td>1</td>\n",
       "      <td>NaN</td>\n",
       "      <td>Zoila Rosa</td>\n",
       "      <td>female</td>\n",
       "      <td>true</td>\n",
       "      <td>monthly</td>\n",
       "      <td>field_partner</td>\n",
       "    </tr>\n",
       "    <tr>\n",
       "      <th>2</th>\n",
       "      <td>1782205</td>\n",
       "      <td>Rosalinda</td>\n",
       "      <td>English</td>\n",
       "      <td>Rosalinda is a married woman, who is 41 years ...</td>\n",
       "      <td>Rosalinda is a married woman, who is 41 years ...</td>\n",
       "      <td>400.0</td>\n",
       "      <td>400.0</td>\n",
       "      <td>funded</td>\n",
       "      <td>3180067.0</td>\n",
       "      <td>NaN</td>\n",
       "      <td>...</td>\n",
       "      <td>11.0</td>\n",
       "      <td>5</td>\n",
       "      <td>2</td>\n",
       "      <td>1</td>\n",
       "      <td>NaN</td>\n",
       "      <td>Rosalinda</td>\n",
       "      <td>female</td>\n",
       "      <td>true</td>\n",
       "      <td>monthly</td>\n",
       "      <td>field_partner</td>\n",
       "    </tr>\n",
       "    <tr>\n",
       "      <th>3</th>\n",
       "      <td>958277</td>\n",
       "      <td>Restita</td>\n",
       "      <td>English</td>\n",
       "      <td>This is Restita, who is 54 years old. She owns...</td>\n",
       "      <td>This is Restita, who is 54 years old. She owns...</td>\n",
       "      <td>875.0</td>\n",
       "      <td>875.0</td>\n",
       "      <td>funded</td>\n",
       "      <td>1994112.0</td>\n",
       "      <td>NaN</td>\n",
       "      <td>...</td>\n",
       "      <td>7.0</td>\n",
       "      <td>9</td>\n",
       "      <td>2</td>\n",
       "      <td>1</td>\n",
       "      <td>NaN</td>\n",
       "      <td>Restita</td>\n",
       "      <td>female</td>\n",
       "      <td>true</td>\n",
       "      <td>monthly</td>\n",
       "      <td>field_partner</td>\n",
       "    </tr>\n",
       "    <tr>\n",
       "      <th>4</th>\n",
       "      <td>1214975</td>\n",
       "      <td>Hejazi</td>\n",
       "      <td>English</td>\n",
       "      <td>Hejazi, who appears in the photo, is 30 years ...</td>\n",
       "      <td>Hejazi, who appears in the photo, is 30 years ...</td>\n",
       "      <td>1000.0</td>\n",
       "      <td>1000.0</td>\n",
       "      <td>funded</td>\n",
       "      <td>2408080.0</td>\n",
       "      <td>NaN</td>\n",
       "      <td>...</td>\n",
       "      <td>28.0</td>\n",
       "      <td>22</td>\n",
       "      <td>1</td>\n",
       "      <td>1</td>\n",
       "      <td>#Parent, user_favorite, #Biz Durable Asset, us...</td>\n",
       "      <td>Hejazi</td>\n",
       "      <td>male</td>\n",
       "      <td>true</td>\n",
       "      <td>monthly</td>\n",
       "      <td>field_partner</td>\n",
       "    </tr>\n",
       "  </tbody>\n",
       "</table>\n",
       "<p>5 rows × 34 columns</p>\n",
       "</div>"
      ],
      "text/plain": [
       "   LOAN_ID   LOAN_NAME ORIGINAL_LANGUAGE  \\\n",
       "0  1827392       Nelie           English   \n",
       "1   339740  Zoila Rosa           Spanish   \n",
       "2  1782205   Rosalinda           English   \n",
       "3   958277     Restita           English   \n",
       "4  1214975      Hejazi           English   \n",
       "\n",
       "                                         DESCRIPTION  \\\n",
       "0  Nelie is married and works hard to support her...   \n",
       "1  La Señora Zoila es socia del banco comunal El ...   \n",
       "2  Rosalinda is a married woman, who is 41 years ...   \n",
       "3  This is Restita, who is 54 years old. She owns...   \n",
       "4  Hejazi, who appears in the photo, is 30 years ...   \n",
       "\n",
       "                              DESCRIPTION_TRANSLATED  FUNDED_AMOUNT  \\\n",
       "0  Nelie is married and works hard to support her...          525.0   \n",
       "1  Zoila is a member of 'El Cisne' (The Swan) com...          675.0   \n",
       "2  Rosalinda is a married woman, who is 41 years ...          400.0   \n",
       "3  This is Restita, who is 54 years old. She owns...          875.0   \n",
       "4  Hejazi, who appears in the photo, is 30 years ...         1000.0   \n",
       "\n",
       "   LOAN_AMOUNT  STATUS   IMAGE_ID  VIDEO_ID  ... LENDER_TERM  \\\n",
       "0        525.0  funded  3241689.0       NaN  ...         8.0   \n",
       "1        675.0  funded   878599.0       NaN  ...         8.0   \n",
       "2        400.0  funded  3180067.0       NaN  ...        11.0   \n",
       "3        875.0  funded  1994112.0       NaN  ...         7.0   \n",
       "4       1000.0  funded  2408080.0       NaN  ...        28.0   \n",
       "\n",
       "  NUM_LENDERS_TOTAL NUM_JOURNAL_ENTRIES NUM_BULK_ENTRIES  \\\n",
       "0                15                   2                1   \n",
       "1                23                   2                1   \n",
       "2                 5                   2                1   \n",
       "3                 9                   2                1   \n",
       "4                22                   1                1   \n",
       "\n",
       "                                                TAGS BORROWER_NAMES  \\\n",
       "0                              #Woman-Owned Business          Nelie   \n",
       "1                                                NaN     Zoila Rosa   \n",
       "2                                                NaN      Rosalinda   \n",
       "3                                                NaN        Restita   \n",
       "4  #Parent, user_favorite, #Biz Durable Asset, us...         Hejazi   \n",
       "\n",
       "  BORROWER_GENDERS  BORROWER_PICTURED REPAYMENT_INTERVAL  DISTRIBUTION_MODEL  \n",
       "0           female               true            monthly       field_partner  \n",
       "1           female               true            monthly       field_partner  \n",
       "2           female               true            monthly       field_partner  \n",
       "3           female               true            monthly       field_partner  \n",
       "4             male               true            monthly       field_partner  \n",
       "\n",
       "[5 rows x 34 columns]"
      ]
     },
     "execution_count": 7,
     "metadata": {},
     "output_type": "execute_result"
    }
   ],
   "source": [
    "loan.head()"
   ]
  },
  {
   "cell_type": "markdown",
   "metadata": {},
   "source": [
    "Avec cette prévisualisation et la description des variables de la base de données, on peut clairement identifier la nature de ces dernières à savoir si elles sont *quantitatives* ou *qaulitatives* et aussi au format *date*.\n",
    "Afin de voir la considération que python fait de nos variables, nous allons affiché les informations de la base de données."
   ]
  },
  {
   "cell_type": "code",
   "execution_count": 8,
   "metadata": {},
   "outputs": [
    {
     "name": "stdout",
     "output_type": "stream",
     "text": [
      "<class 'pandas.core.frame.DataFrame'>\n",
      "RangeIndex: 1968819 entries, 0 to 1968818\n",
      "Data columns (total 34 columns):\n",
      " #   Column                           Dtype  \n",
      "---  ------                           -----  \n",
      " 0   LOAN_ID                          int64  \n",
      " 1   LOAN_NAME                        object \n",
      " 2   ORIGINAL_LANGUAGE                object \n",
      " 3   DESCRIPTION                      object \n",
      " 4   DESCRIPTION_TRANSLATED           object \n",
      " 5   FUNDED_AMOUNT                    float64\n",
      " 6   LOAN_AMOUNT                      float64\n",
      " 7   STATUS                           object \n",
      " 8   IMAGE_ID                         float64\n",
      " 9   VIDEO_ID                         float64\n",
      " 10  ACTIVITY_NAME                    object \n",
      " 11  SECTOR_NAME                      object \n",
      " 12  LOAN_USE                         object \n",
      " 13  COUNTRY_CODE                     object \n",
      " 14  COUNTRY_NAME                     object \n",
      " 15  TOWN_NAME                        object \n",
      " 16  CURRENCY_POLICY                  object \n",
      " 17  CURRENCY_EXCHANGE_COVERAGE_RATE  float64\n",
      " 18  CURRENCY                         object \n",
      " 19  PARTNER_ID                       float64\n",
      " 20  POSTED_TIME                      object \n",
      " 21  PLANNED_EXPIRATION_TIME          object \n",
      " 22  DISBURSE_TIME                    object \n",
      " 23  RAISED_TIME                      object \n",
      " 24  LENDER_TERM                      float64\n",
      " 25  NUM_LENDERS_TOTAL                int64  \n",
      " 26  NUM_JOURNAL_ENTRIES              int64  \n",
      " 27  NUM_BULK_ENTRIES                 int64  \n",
      " 28  TAGS                             object \n",
      " 29  BORROWER_NAMES                   object \n",
      " 30  BORROWER_GENDERS                 object \n",
      " 31  BORROWER_PICTURED                object \n",
      " 32  REPAYMENT_INTERVAL               object \n",
      " 33  DISTRIBUTION_MODEL               object \n",
      "dtypes: float64(7), int64(4), object(23)\n",
      "memory usage: 510.7+ MB\n"
     ]
    }
   ],
   "source": [
    "loan.info()"
   ]
  },
  {
   "cell_type": "markdown",
   "metadata": {},
   "source": [
    "Comme on peut le voir, python considère nos variable date comme qualitative. Ce qui est tout à fait normal étant donné leur format.\n",
    "\n",
    "Nous allons par la suite transformer ces variables dates en informations utilent pour les analyses à venir. Aussi, pour les autres variables de type object, nous allons les re-codifier en précisant clairement leur type. Cette recodification permettra mieux manipuler les données."
   ]
  },
  {
   "cell_type": "markdown",
   "metadata": {},
   "source": [
    "` ***re-codification des varibales*** `\n",
    "* Variables de type date"
   ]
  },
  {
   "cell_type": "code",
   "execution_count": 26,
   "metadata": {},
   "outputs": [
    {
     "name": "stdout",
     "output_type": "stream",
     "text": [
      " le type de POSTED_TIME est : <class 'pandas.core.series.Series'> \n",
      " le type de PLANNED_EXPIRATION_TIME est : <class 'pandas.core.series.Series'> \n",
      " le type de DISBURSE_TIME est : <class 'pandas.core.series.Series'> \n",
      " le type de RAISED_TIME est : <class 'pandas.core.series.Series'>\n"
     ]
    }
   ],
   "source": [
    "print(' le type de POSTED_TIME est :', type(loan['POSTED_TIME']),\n",
    "      '\\n le type de PLANNED_EXPIRATION_TIME est :', type(loan['PLANNED_EXPIRATION_TIME']),\n",
    "      '\\n le type de DISBURSE_TIME est :', type(loan['DISBURSE_TIME']),\n",
    "      '\\n le type de RAISED_TIME est :', type(loan['RAISED_TIME']))"
   ]
  },
  {
   "cell_type": "markdown",
   "metadata": {},
   "source": [
    "Comme on le voit avec cette sortie, nos variables dates sont considérées commes de `series` par python. Il est à noter que sur\n",
    "python, ce type de variable est un tableau étiqueté unidimensionnel capable de contenir n'importe quel type de données (entiers, chaînes, nombres à virgule flottante, objets Python, etc.).\n",
    "Dans la suite nous allons convertir ces variables en variables datetime pour en extraire l'année. Cette conversion nous sera d'un grand avantage dans les prochaines analyses."
   ]
  },
  {
   "cell_type": "code",
   "execution_count": 27,
   "metadata": {},
   "outputs": [
    {
     "data": {
      "text/plain": [
       "<pandas.core.indexes.accessors.DatetimeProperties object at 0x0000016486E12AC0>"
      ]
     },
     "execution_count": 27,
     "metadata": {},
     "output_type": "execute_result"
    }
   ],
   "source": [
    "# Conversion des variables en datetime\n",
    "\n",
    "loan[\"POSTED_TIME\"] = pd.to_datetime(loan[\"POSTED_TIME\"])\n",
    "loan[\"PLANNED_EXPIRATION_TIME\"] = pd.to_datetime(loan[\"PLANNED_EXPIRATION_TIME\"])\n",
    "loan[\"DISBURSE_TIME\"] = pd.to_datetime(loan[\"DISBURSE_TIME\"])\n",
    "loan[\"RAISED_TIME\"] = pd.to_datetime(loan[\"RAISED_TIME\"])\n",
    "\n",
    "loan[\"POSTED_TIME\"].dt\n",
    "loan[\"PLANNED_EXPIRATION_TIME\"].dt\n",
    "loan[\"DISBURSE_TIME\"].dt\n",
    "loan[\"RAISED_TIME\"].dt"
   ]
  },
  {
   "cell_type": "code",
   "execution_count": 28,
   "metadata": {},
   "outputs": [],
   "source": [
    "loan[\"POSTED_DATE\"] = loan[\"POSTED_TIME\"].dt.year\n",
    "loan[\"PLANNED_EXPIRATION_DATE\"] = loan[\"PLANNED_EXPIRATION_TIME\"].dt.year\n",
    "loan[\"DISBURSE_date\"] = loan[\"DISBURSE_TIME\"].dt.year\n",
    "loan[\"RAISED_date\"] = loan[\"RAISED_TIME\"].dt.year"
   ]
  },
  {
   "cell_type": "code",
   "execution_count": 30,
   "metadata": {},
   "outputs": [
    {
     "data": {
      "text/html": [
       "<div>\n",
       "<style scoped>\n",
       "    .dataframe tbody tr th:only-of-type {\n",
       "        vertical-align: middle;\n",
       "    }\n",
       "\n",
       "    .dataframe tbody tr th {\n",
       "        vertical-align: top;\n",
       "    }\n",
       "\n",
       "    .dataframe thead th {\n",
       "        text-align: right;\n",
       "    }\n",
       "</style>\n",
       "<table border=\"1\" class=\"dataframe\">\n",
       "  <thead>\n",
       "    <tr style=\"text-align: right;\">\n",
       "      <th>col_0</th>\n",
       "      <th>freq</th>\n",
       "    </tr>\n",
       "    <tr>\n",
       "      <th>POSTED_DATE</th>\n",
       "      <th></th>\n",
       "    </tr>\n",
       "  </thead>\n",
       "  <tbody>\n",
       "    <tr>\n",
       "      <th>2006</th>\n",
       "      <td>3200</td>\n",
       "    </tr>\n",
       "    <tr>\n",
       "      <th>2007</th>\n",
       "      <td>26314</td>\n",
       "    </tr>\n",
       "    <tr>\n",
       "      <th>2008</th>\n",
       "      <td>50697</td>\n",
       "    </tr>\n",
       "    <tr>\n",
       "      <th>2009</th>\n",
       "      <td>81629</td>\n",
       "    </tr>\n",
       "    <tr>\n",
       "      <th>2010</th>\n",
       "      <td>92902</td>\n",
       "    </tr>\n",
       "    <tr>\n",
       "      <th>2011</th>\n",
       "      <td>113009</td>\n",
       "    </tr>\n",
       "    <tr>\n",
       "      <th>2012</th>\n",
       "      <td>133847</td>\n",
       "    </tr>\n",
       "    <tr>\n",
       "      <th>2013</th>\n",
       "      <td>140035</td>\n",
       "    </tr>\n",
       "    <tr>\n",
       "      <th>2014</th>\n",
       "      <td>174232</td>\n",
       "    </tr>\n",
       "    <tr>\n",
       "      <th>2015</th>\n",
       "      <td>181835</td>\n",
       "    </tr>\n",
       "    <tr>\n",
       "      <th>2016</th>\n",
       "      <td>197236</td>\n",
       "    </tr>\n",
       "    <tr>\n",
       "      <th>2017</th>\n",
       "      <td>225476</td>\n",
       "    </tr>\n",
       "    <tr>\n",
       "      <th>2018</th>\n",
       "      <td>229633</td>\n",
       "    </tr>\n",
       "    <tr>\n",
       "      <th>2019</th>\n",
       "      <td>219005</td>\n",
       "    </tr>\n",
       "    <tr>\n",
       "      <th>2020</th>\n",
       "      <td>99769</td>\n",
       "    </tr>\n",
       "  </tbody>\n",
       "</table>\n",
       "</div>"
      ],
      "text/plain": [
       "col_0          freq\n",
       "POSTED_DATE        \n",
       "2006           3200\n",
       "2007          26314\n",
       "2008          50697\n",
       "2009          81629\n",
       "2010          92902\n",
       "2011         113009\n",
       "2012         133847\n",
       "2013         140035\n",
       "2014         174232\n",
       "2015         181835\n",
       "2016         197236\n",
       "2017         225476\n",
       "2018         229633\n",
       "2019         219005\n",
       "2020          99769"
      ]
     },
     "execution_count": 30,
     "metadata": {},
     "output_type": "execute_result"
    }
   ],
   "source": [
    "pd.crosstab(loan[\"POSTED_DATE\"],\"freq\")"
   ]
  },
  {
   "cell_type": "markdown",
   "metadata": {},
   "source": [
    "De cette sortie, on a retrace ainsi les activités de Kiva de sa création en 2005 jusqu'au 20/10/2020. On constate qu'en 2018, l\n",
    "kiva a comptabilisé le plus grand nombre de prêt. Naturellement l'année 2006 a le nombre de prêt comptabilisé le plus faible car le structure était à\n",
    "ces débuts."
   ]
  },
  {
   "cell_type": "markdown",
   "metadata": {},
   "source": [
    "* Variables catégorielle"
   ]
  },
  {
   "cell_type": "code",
   "execution_count": 40,
   "metadata": {},
   "outputs": [],
   "source": [
    "var_categoriel = ['LOAN_NAME','ORIGINAL_LANGUAGE','DESCRIPTION','DESCRIPTION_TRANSLATED','STATUS','ACTIVITY_NAME','SECTOR_NAME','LOAN_USE','COUNTRY_CODE','COUNTRY_NAME','TOWN_NAME','CURRENCY_POLICY','CURRENCY_EXCHANGE_COVERAGE_RATE','CURRENCY','TAGS','BORROWER_NAMES','BORROWER_GENDERS','BORROWER_PICTURED','REPAYMENT_INTERVAL','DISTRIBUTION_MODEL']\n",
    "loan[var_categoriel] = loan[var_categoriel].astype('category')"
   ]
  },
  {
   "cell_type": "code",
   "execution_count": 42,
   "metadata": {},
   "outputs": [
    {
     "name": "stdout",
     "output_type": "stream",
     "text": [
      "<class 'pandas.core.frame.DataFrame'>\n",
      "RangeIndex: 1968819 entries, 0 to 1968818\n",
      "Data columns (total 38 columns):\n",
      " #   Column                           Dtype              \n",
      "---  ------                           -----              \n",
      " 0   LOAN_ID                          int64              \n",
      " 1   LOAN_NAME                        category           \n",
      " 2   ORIGINAL_LANGUAGE                category           \n",
      " 3   DESCRIPTION                      category           \n",
      " 4   DESCRIPTION_TRANSLATED           category           \n",
      " 5   FUNDED_AMOUNT                    float64            \n",
      " 6   LOAN_AMOUNT                      float64            \n",
      " 7   STATUS                           category           \n",
      " 8   IMAGE_ID                         float64            \n",
      " 9   VIDEO_ID                         float64            \n",
      " 10  ACTIVITY_NAME                    category           \n",
      " 11  SECTOR_NAME                      category           \n",
      " 12  LOAN_USE                         category           \n",
      " 13  COUNTRY_CODE                     category           \n",
      " 14  COUNTRY_NAME                     category           \n",
      " 15  TOWN_NAME                        category           \n",
      " 16  CURRENCY_POLICY                  category           \n",
      " 17  CURRENCY_EXCHANGE_COVERAGE_RATE  category           \n",
      " 18  CURRENCY                         category           \n",
      " 19  PARTNER_ID                       float64            \n",
      " 20  POSTED_TIME                      datetime64[ns, UTC]\n",
      " 21  PLANNED_EXPIRATION_TIME          datetime64[ns, UTC]\n",
      " 22  DISBURSE_TIME                    datetime64[ns, UTC]\n",
      " 23  RAISED_TIME                      datetime64[ns, UTC]\n",
      " 24  LENDER_TERM                      float64            \n",
      " 25  NUM_LENDERS_TOTAL                int64              \n",
      " 26  NUM_JOURNAL_ENTRIES              int64              \n",
      " 27  NUM_BULK_ENTRIES                 int64              \n",
      " 28  TAGS                             category           \n",
      " 29  BORROWER_NAMES                   category           \n",
      " 30  BORROWER_GENDERS                 category           \n",
      " 31  BORROWER_PICTURED                category           \n",
      " 32  REPAYMENT_INTERVAL               category           \n",
      " 33  DISTRIBUTION_MODEL               category           \n",
      " 34  POSTED_DATE                      int64              \n",
      " 35  PLANNED_EXPIRATION_DATE          float64            \n",
      " 36  DISBURSE_date                    float64            \n",
      " 37  RAISED_date                      float64            \n",
      "dtypes: category(20), datetime64[ns, UTC](4), float64(9), int64(5)\n",
      "memory usage: 606.6 MB\n"
     ]
    }
   ],
   "source": [
    "loan.info()"
   ]
  },
  {
   "cell_type": "markdown",
   "metadata": {},
   "source": [
    "Une fois que nous connaissons le type de nos différentes variables, nous allons par suite identifier celles qui ne serons\n",
    "pas utiles pour nos analyses et les supprimés pour ne retenir que les pertinentes. Comme par exemple, les variables `ACTIVITY_NAME` ne rapporte pas trop d'information étant donnée la disponibilité de la variable `SECTOR_NAME`; également pour la variable `IMAGE_ID`, on va préferé `BORROWER_PICTURED` qui renseigne si l'emprunteur a fourni sa photo ou pas."
   ]
  },
  {
   "cell_type": "code",
   "execution_count": 56,
   "metadata": {},
   "outputs": [],
   "source": [
    "var_suprime = ['LOAN_NAME','ORIGINAL_LANGUAGE','IMAGE_ID','DESCRIPTION','ACTIVITY_NAME','TOWN_NAME','CURRENCY_POLICY','CURRENCY_EXCHANGE_COVERAGE_RATE','TAGS','BORROWER_NAMES']"
   ]
  },
  {
   "cell_type": "code",
   "execution_count": 57,
   "metadata": {},
   "outputs": [],
   "source": [
    "loan_copy = loan.copy() # On fait copie de la base pour toujours avoir recours à la base source en cas de problème."
   ]
  },
  {
   "cell_type": "code",
   "execution_count": 58,
   "metadata": {},
   "outputs": [],
   "source": [
    "loan_copy = loan_copy.drop(var_suprime, axis=1)"
   ]
  },
  {
   "cell_type": "code",
   "execution_count": 59,
   "metadata": {},
   "outputs": [
    {
     "data": {
      "text/plain": [
       "(1968819, 28)"
      ]
     },
     "execution_count": 59,
     "metadata": {},
     "output_type": "execute_result"
    }
   ],
   "source": [
    "loan_copy.shape"
   ]
  },
  {
   "cell_type": "markdown",
   "metadata": {},
   "source": [
    "## Analyse globale de la base de donnée\n",
    "L'object de cette partie est de ressortie les caractéristiques globales de la base de données en terme de missing values et duplicates. Par la suite, nous allons procédé à une analyse beaucoup plus fine au niveau de chaque de variable, ce dans l'optique d'identifier les valeurs éventuelles valeurs abérrantes et autres."
   ]
  },
  {
   "cell_type": "markdown",
   "metadata": {},
   "source": [
    "* Missing values"
   ]
  },
  {
   "cell_type": "code",
   "execution_count": 60,
   "metadata": {
    "scrolled": true
   },
   "outputs": [
    {
     "data": {
      "text/plain": [
       "<AxesSubplot:>"
      ]
     },
     "execution_count": 60,
     "metadata": {},
     "output_type": "execute_result"
    },
    {
     "data": {
      "image/png": "[encoded data removed]",
      "text/plain": [
       "<Figure size 1800x720 with 2 Axes>"
      ]
     },
     "metadata": {
      "needs_background": "light"
     },
     "output_type": "display_data"
    }
   ],
   "source": [
    "msno.matrix(loan_copy)"
   ]
  },
  {
   "cell_type": "markdown",
   "metadata": {},
   "source": [
    "L'observation de cette sortie permet de constater que les variables `DESCRIPTION_TRANSLATED`, `VIDEO_ID`, `PLANNED_EXPIRATION_TIME`, `PLANNED_EXPIRATION_DATE`\n",
    "presentent beaucoup de valeurs manquantes. Etant donné leur faible apport informationnel dans nos analyses,\n",
    "nous allons nous en débarraser."
   ]
  },
  {
   "cell_type": "code",
   "execution_count": 61,
   "metadata": {},
   "outputs": [],
   "source": [
    "var_supprime2 = ['DESCRIPTION_TRANSLATED','VIDEO_ID','PLANNED_EXPIRATION_TIME','PLANNED_EXPIRATION_DATE']"
   ]
  },
  {
   "cell_type": "code",
   "execution_count": 62,
   "metadata": {},
   "outputs": [],
   "source": [
    "loan_copy = loan_copy.drop(var_supprime2, axis=1)"
   ]
  },
  {
   "cell_type": "code",
   "execution_count": 63,
   "metadata": {},
   "outputs": [
    {
     "data": {
      "text/plain": [
       "<AxesSubplot:>"
      ]
     },
     "execution_count": 63,
     "metadata": {},
     "output_type": "execute_result"
    },
    {
     "data": {
      "image/png": "[encoded data removed]",
      "text/plain": [
       "<Figure size 1800x720 with 2 Axes>"
      ]
     },
     "metadata": {
      "needs_background": "light"
     },
     "output_type": "display_data"
    }
   ],
   "source": [
    "msno.matrix(loan_copy)"
   ]
  },
  {
   "cell_type": "markdown",
   "metadata": {},
   "source": [
    "* Duplicates"
   ]
  },
  {
   "cell_type": "code",
   "execution_count": 64,
   "metadata": {},
   "outputs": [
    {
     "data": {
      "text/plain": [
       "0"
      ]
     },
     "execution_count": 64,
     "metadata": {},
     "output_type": "execute_result"
    }
   ],
   "source": [
    "## Nombre de données dupliqués sur la base des id\n",
    "loan_copy.duplicated(subset=['LOAN_ID' ]).sum()"
   ]
  },
  {
   "cell_type": "markdown",
   "metadata": {},
   "source": [
    "Ainsi, on voit que notre base de données ne comporte pas d'observations dupliquées. Autrement dit, chaque prêt est identifiable par son identifiant."
   ]
  },
  {
   "cell_type": "markdown",
   "metadata": {},
   "source": [
    "## Analyse spécifiques des variables\n",
    "Dans cette partie, nous allons procéder aux éventuelles recodifications, renomages et traitement des variables qui présentent\n",
    "des incohérences."
   ]
  },
  {
   "cell_type": "code",
   "execution_count": 68,
   "metadata": {},
   "outputs": [],
   "source": [
    "var_quanti = ['FUNDED_AMOUNT','LOAN_AMOUNT','PARTNER_ID','LENDER_TERM','NUM_LENDERS_TOTAL','NUM_JOURNAL_ENTRIES','NUM_BULK_ENTRIES']\n",
    "var_date = ['POSTED_DATE', 'DISBURSE_date', 'RAISED_date']"
   ]
  },
  {
   "cell_type": "code",
   "execution_count": 69,
   "metadata": {},
   "outputs": [
    {
     "data": {
      "text/html": [
       "<div>\n",
       "<style scoped>\n",
       "    .dataframe tbody tr th:only-of-type {\n",
       "        vertical-align: middle;\n",
       "    }\n",
       "\n",
       "    .dataframe tbody tr th {\n",
       "        vertical-align: top;\n",
       "    }\n",
       "\n",
       "    .dataframe thead th {\n",
       "        text-align: right;\n",
       "    }\n",
       "</style>\n",
       "<table border=\"1\" class=\"dataframe\">\n",
       "  <thead>\n",
       "    <tr style=\"text-align: right;\">\n",
       "      <th></th>\n",
       "      <th>FUNDED_AMOUNT</th>\n",
       "      <th>LOAN_AMOUNT</th>\n",
       "      <th>PARTNER_ID</th>\n",
       "      <th>LENDER_TERM</th>\n",
       "      <th>NUM_LENDERS_TOTAL</th>\n",
       "      <th>NUM_JOURNAL_ENTRIES</th>\n",
       "      <th>NUM_BULK_ENTRIES</th>\n",
       "    </tr>\n",
       "  </thead>\n",
       "  <tbody>\n",
       "    <tr>\n",
       "      <th>count</th>\n",
       "      <td>1.968819e+06</td>\n",
       "      <td>1.968819e+06</td>\n",
       "      <td>1.948516e+06</td>\n",
       "      <td>1.968795e+06</td>\n",
       "      <td>1.968819e+06</td>\n",
       "      <td>1.968819e+06</td>\n",
       "      <td>1.968819e+06</td>\n",
       "    </tr>\n",
       "    <tr>\n",
       "      <th>mean</th>\n",
       "      <td>7.794666e+02</td>\n",
       "      <td>8.235622e+02</td>\n",
       "      <td>1.659668e+02</td>\n",
       "      <td>1.314693e+01</td>\n",
       "      <td>2.142341e+01</td>\n",
       "      <td>1.561344e+00</td>\n",
       "      <td>1.153008e+00</td>\n",
       "    </tr>\n",
       "    <tr>\n",
       "      <th>std</th>\n",
       "      <td>1.522751e+03</td>\n",
       "      <td>1.602688e+03</td>\n",
       "      <td>1.047908e+02</td>\n",
       "      <td>7.304365e+00</td>\n",
       "      <td>4.155283e+01</td>\n",
       "      <td>1.093998e+00</td>\n",
       "      <td>5.257283e-01</td>\n",
       "    </tr>\n",
       "    <tr>\n",
       "      <th>min</th>\n",
       "      <td>0.000000e+00</td>\n",
       "      <td>2.500000e+01</td>\n",
       "      <td>1.000000e+00</td>\n",
       "      <td>1.000000e+00</td>\n",
       "      <td>0.000000e+00</td>\n",
       "      <td>1.000000e+00</td>\n",
       "      <td>1.000000e+00</td>\n",
       "    </tr>\n",
       "    <tr>\n",
       "      <th>25%</th>\n",
       "      <td>2.750000e+02</td>\n",
       "      <td>2.750000e+02</td>\n",
       "      <td>1.080000e+02</td>\n",
       "      <td>8.000000e+00</td>\n",
       "      <td>7.000000e+00</td>\n",
       "      <td>1.000000e+00</td>\n",
       "      <td>1.000000e+00</td>\n",
       "    </tr>\n",
       "    <tr>\n",
       "      <th>50%</th>\n",
       "      <td>5.000000e+02</td>\n",
       "      <td>5.000000e+02</td>\n",
       "      <td>1.450000e+02</td>\n",
       "      <td>1.300000e+01</td>\n",
       "      <td>1.400000e+01</td>\n",
       "      <td>1.000000e+00</td>\n",
       "      <td>1.000000e+00</td>\n",
       "    </tr>\n",
       "    <tr>\n",
       "      <th>75%</th>\n",
       "      <td>9.000000e+02</td>\n",
       "      <td>9.750000e+02</td>\n",
       "      <td>1.850000e+02</td>\n",
       "      <td>1.400000e+01</td>\n",
       "      <td>2.600000e+01</td>\n",
       "      <td>2.000000e+00</td>\n",
       "      <td>1.000000e+00</td>\n",
       "    </tr>\n",
       "    <tr>\n",
       "      <th>max</th>\n",
       "      <td>5.000000e+05</td>\n",
       "      <td>5.000000e+05</td>\n",
       "      <td>6.140000e+02</td>\n",
       "      <td>1.950000e+02</td>\n",
       "      <td>1.526500e+04</td>\n",
       "      <td>1.260000e+02</td>\n",
       "      <td>6.300000e+01</td>\n",
       "    </tr>\n",
       "  </tbody>\n",
       "</table>\n",
       "</div>"
      ],
      "text/plain": [
       "       FUNDED_AMOUNT   LOAN_AMOUNT    PARTNER_ID   LENDER_TERM  \\\n",
       "count   1.968819e+06  1.968819e+06  1.948516e+06  1.968795e+06   \n",
       "mean    7.794666e+02  8.235622e+02  1.659668e+02  1.314693e+01   \n",
       "std     1.522751e+03  1.602688e+03  1.047908e+02  7.304365e+00   \n",
       "min     0.000000e+00  2.500000e+01  1.000000e+00  1.000000e+00   \n",
       "25%     2.750000e+02  2.750000e+02  1.080000e+02  8.000000e+00   \n",
       "50%     5.000000e+02  5.000000e+02  1.450000e+02  1.300000e+01   \n",
       "75%     9.000000e+02  9.750000e+02  1.850000e+02  1.400000e+01   \n",
       "max     5.000000e+05  5.000000e+05  6.140000e+02  1.950000e+02   \n",
       "\n",
       "       NUM_LENDERS_TOTAL  NUM_JOURNAL_ENTRIES  NUM_BULK_ENTRIES  \n",
       "count       1.968819e+06         1.968819e+06      1.968819e+06  \n",
       "mean        2.142341e+01         1.561344e+00      1.153008e+00  \n",
       "std         4.155283e+01         1.093998e+00      5.257283e-01  \n",
       "min         0.000000e+00         1.000000e+00      1.000000e+00  \n",
       "25%         7.000000e+00         1.000000e+00      1.000000e+00  \n",
       "50%         1.400000e+01         1.000000e+00      1.000000e+00  \n",
       "75%         2.600000e+01         2.000000e+00      1.000000e+00  \n",
       "max         1.526500e+04         1.260000e+02      6.300000e+01  "
      ]
     },
     "execution_count": 69,
     "metadata": {},
     "output_type": "execute_result"
    }
   ],
   "source": [
    "loan_copy[var_quanti].describe() # Description des variables quantitatives de la base de données."
   ]
  },
  {
   "cell_type": "markdown",
   "metadata": {},
   "source": [
    "Les princiaples enseingnements du tableau :\n",
    "  * **FUNDED_AMOUNT** : \n",
    "Le minimum des montants empruntés auprès de kiva durant la période d'analyse est de 0. Ce qui est incohérent car un entrepreneur rationel n'irait pas\n",
    "prêté un tel montant. Ainsi, nous considérerons ces observations comme étant à problème et nous allons litéralement les supprimer."
   ]
  },
  {
   "cell_type": "code",
   "execution_count": null,
   "metadata": {},
   "outputs": [],
   "source": []
  },
  {
   "cell_type": "code",
   "execution_count": null,
   "metadata": {},
   "outputs": [],
   "source": []
  },
  {
   "cell_type": "code",
   "execution_count": null,
   "metadata": {},
   "outputs": [],
   "source": []
  },
  {
   "cell_type": "code",
   "execution_count": 72,
   "metadata": {
    "scrolled": true
   },
   "outputs": [
    {
     "data": {
      "text/plain": [
       "array([5.25000e+02, 6.75000e+02, 4.00000e+02, 8.75000e+02, 1.00000e+03,\n",
       "       7.25000e+02, 5.00000e+02, 7.00000e+02, 1.75000e+02, 4.75000e+02,\n",
       "       6.00000e+02, 3.72500e+03, 3.25000e+02, 2.00000e+02, 2.25000e+02,\n",
       "       3.00000e+02, 1.30000e+03, 4.25000e+02, 1.02500e+03, 5.75000e+02,\n",
       "       1.25000e+02, 7.75000e+02, 5.50000e+02, 4.50000e+02, 1.15000e+03,\n",
       "       2.75000e+02, 1.60000e+03, 3.50000e+02, 1.97500e+03, 1.32500e+03,\n",
       "       1.50000e+02, 2.50000e+02, 1.50000e+03, 1.00000e+02, 1.65000e+03,\n",
       "       7.50000e+01, 8.00000e+02, 3.75000e+02, 2.00000e+03, 6.50000e+02,\n",
       "       1.85000e+03, 1.05000e+03, 2.50000e+03, 1.80000e+03, 1.12500e+03,\n",
       "       1.07500e+03, 6.25000e+02, 2.80000e+03, 1.00000e+04, 9.00000e+02,\n",
       "       1.87500e+03, 3.45000e+03, 3.00000e+03, 1.20000e+03, 1.27500e+03,\n",
       "       3.10000e+03, 1.10000e+03, 1.82500e+03, 1.17500e+03, 1.55000e+03,\n",
       "       7.50000e+02, 2.27500e+03, 2.05000e+03, 9.25000e+02, 9.50000e+02,\n",
       "       5.00000e+01, 7.22500e+03, 2.15000e+03, 8.50000e+02, 9.75000e+02,\n",
       "       1.70000e+03, 1.45000e+03, 1.35000e+03, 1.52500e+03, 1.40000e+03,\n",
       "       2.70000e+03, 2.90000e+03, 3.02500e+03, 3.35000e+03, 8.25000e+02,\n",
       "       2.20000e+03, 2.35000e+03, 3.30000e+03, 0.00000e+00, 1.67500e+03,\n",
       "       5.12500e+03, 5.40000e+03, 1.77500e+03, 2.47500e+03, 3.97500e+03,\n",
       "       4.10000e+03, 1.22500e+03, 2.97500e+03, 2.07500e+03, 1.37500e+03,\n",
       "       3.15000e+03, 5.42500e+03, 1.25000e+03, 2.32500e+03, 3.50000e+03,\n",
       "       3.90000e+03, 1.92500e+03, 1.47500e+03, 1.90000e+03, 6.45000e+03,\n",
       "       4.87500e+03, 2.10000e+03, 3.80000e+03, 2.45000e+03, 2.40000e+03,\n",
       "       4.47500e+03, 2.60000e+03, 4.00000e+03, 2.17500e+03, 3.52500e+03,\n",
       "       5.00000e+03, 3.47500e+03, 4.17500e+03, 2.42500e+03, 4.57500e+03,\n",
       "       2.30000e+03, 5.02500e+03, 7.50000e+03, 4.42500e+03, 2.95000e+03,\n",
       "       1.57500e+03, 4.65000e+03, 3.12500e+03, 2.12500e+03, 2.55000e+03,\n",
       "       7.47500e+03, 3.37500e+03, 2.50000e+01, 3.55000e+03, 1.62500e+03,\n",
       "       1.95000e+03, 2.92500e+03, 2.77500e+03, 2.85000e+03, 1.72500e+03,\n",
       "       2.72500e+03, 4.90000e+03, 7.10000e+03, 5.32500e+03, 4.55000e+03,\n",
       "       3.42500e+03, 2.75000e+03, 3.85000e+03, 4.82500e+03, 1.42500e+03,\n",
       "       1.54500e+04, 6.05000e+03, 6.40000e+03, 6.72500e+03, 2.87500e+03,\n",
       "       2.62500e+03, 3.57500e+03, 4.22500e+03, 3.32500e+03, 4.77500e+03,\n",
       "       3.87500e+03, 5.95000e+03, 6.57500e+03, 4.60000e+03, 1.16500e+04,\n",
       "       3.92500e+03, 6.80000e+03, 3.65000e+03, 6.95000e+03, 2.02500e+03,\n",
       "       2.65000e+03, 4.20000e+03, 8.05000e+03, 3.20000e+03, 3.70000e+03,\n",
       "       8.65000e+03, 4.45000e+03, 3.27500e+03, 6.22500e+03, 6.20000e+03,\n",
       "       7.60000e+03, 5.25000e+03, 3.05000e+03, 2.22500e+03, 2.67500e+03,\n",
       "       3.95000e+03, 5.30000e+03, 1.75000e+03, 2.34000e+04, 5.65000e+03,\n",
       "       5.20000e+03, 5.05000e+03, 3.75000e+03, 2.37500e+03, 4.35000e+03,\n",
       "       7.32500e+03, 5.45000e+03, 3.40000e+03, 4.40000e+03, 5.07500e+03,\n",
       "       4.92500e+03, 2.52500e+03, 5.10000e+03, 4.50000e+03, 5.67500e+03,\n",
       "       6.12500e+03, 4.32500e+03, 4.27500e+03, 4.97500e+03, 4.37500e+03,\n",
       "       4.80000e+03, 6.30000e+03, 3.22500e+03, 5.15000e+03, 4.95000e+03,\n",
       "       9.95000e+03, 3.60000e+03, 2.57500e+03, 9.10000e+03, 2.82500e+03,\n",
       "       3.17500e+03, 6.02500e+03, 9.15000e+03, 3.62500e+03, 3.07500e+03,\n",
       "       2.25000e+03, 9.67500e+03, 5.17500e+03, 4.25000e+03, 3.25000e+03,\n",
       "       7.80000e+03, 7.00000e+03, 6.25000e+03, 4.62500e+03, 8.67500e+03,\n",
       "       5.80000e+03, 5.97500e+03, 6.07500e+03, 4.72500e+03, 6.42500e+03,\n",
       "       4.85000e+03, 4.05000e+03, 8.70000e+03, 6.32500e+03, 4.15000e+03,\n",
       "       4.12500e+03, 8.85000e+03, 5.70000e+03, 5.77500e+03, 6.15000e+03,\n",
       "       5.52500e+03, 3.82500e+03, 9.57500e+03, 5.85000e+03, 7.12500e+03,\n",
       "       6.62500e+03, 4.52500e+03, 6.00000e+03, 5.22500e+03, 8.10000e+03,\n",
       "       4.75000e+03, 4.02500e+03, 5.55000e+03, 5.50000e+03, 7.52500e+03,\n",
       "       7.82500e+03, 4.30000e+03, 3.67500e+03, 5.60000e+03, 7.17500e+03,\n",
       "       5.75000e+03, 6.47500e+03, 7.95000e+03, 5.00000e+04, 5.62500e+03,\n",
       "       8.07500e+03, 3.77500e+03, 9.00000e+03, 4.07500e+03, 8.57500e+03,\n",
       "       9.40000e+03, 5.90000e+03, 8.00000e+03, 4.70000e+03, 5.37500e+03,\n",
       "       5.87500e+03, 6.10000e+03, 6.52500e+03, 6.97500e+03, 6.60000e+03,\n",
       "       6.35000e+03, 6.77500e+03, 7.97500e+03, 5.72500e+03, 6.17500e+03,\n",
       "       5.27500e+03, 6.65000e+03, 6.37500e+03, 8.40000e+03, 7.57500e+03,\n",
       "       9.07500e+03, 5.92500e+03, 6.27500e+03, 6.85000e+03, 9.45000e+03,\n",
       "       7.55000e+03, 8.87500e+03, 5.47500e+03, 7.05000e+03, 7.35000e+03,\n",
       "       7.87500e+03, 5.82500e+03, 1.50000e+04, 4.67500e+03, 7.45000e+03,\n",
       "       9.62500e+03, 5.35000e+03, 6.92500e+03, 1.22500e+04, 6.90000e+03,\n",
       "       9.75000e+03, 7.02500e+03, 6.82500e+03, 9.12500e+03, 7.25000e+03,\n",
       "       6.67500e+03, 8.30000e+03, 9.20000e+03, 6.55000e+03, 8.15000e+03,\n",
       "       9.50000e+03, 7.15000e+03, 8.77500e+03, 8.27500e+03, 6.87500e+03,\n",
       "       7.42500e+03, 1.45500e+03, 9.77500e+03, 2.18500e+03, 5.57500e+03,\n",
       "       8.42500e+03, 8.50000e+03, 1.83250e+04, 1.18750e+04, 2.03500e+03,\n",
       "       1.00750e+04, 6.75000e+03, 6.70000e+03, 1.54000e+04, 7.20000e+03,\n",
       "       8.55000e+03, 9.27500e+03, 8.97500e+03, 7.85000e+03, 7.07500e+03,\n",
       "       1.00000e+05, 7.67500e+03, 2.68500e+03, 7.30000e+03, 1.97000e+03,\n",
       "       7.40000e+03, 1.25000e+04, 8.25000e+03, 9.35000e+03, 1.60000e+02,\n",
       "       4.50000e+01, 7.62500e+03, 8.60000e+03, 1.02000e+04, 9.42500e+03,\n",
       "       9.32500e+03, 8.90000e+03, 8.92500e+03, 3.00000e+01, 6.50000e+03,\n",
       "       7.77500e+03, 7.75000e+03, 3.41000e+04, 8.22500e+03, 7.72500e+03,\n",
       "       7.65000e+03, 9.92500e+03, 7.90000e+03, 9.87500e+03, 1.02250e+04,\n",
       "       8.12500e+03, 3.31000e+03, 8.52500e+03, 8.47500e+03, 2.29750e+04,\n",
       "       1.30250e+04, 9.97500e+03, 2.07000e+04, 1.89500e+03, 5.50000e+01,\n",
       "       4.78500e+03, 1.54250e+04, 9.90000e+03, 1.09250e+04, 8.20000e+03,\n",
       "       1.18000e+04, 8.45000e+03, 3.99500e+04, 8.75000e+03, 7.92500e+03,\n",
       "       1.13500e+04, 7.27500e+03, 4.00000e+04, 9.70000e+03, 2.50000e+04,\n",
       "       8.32500e+03, 8.17500e+03, 8.95000e+03, 1.68250e+04, 7.70000e+03,\n",
       "       8.00000e+04, 1.46250e+04, 7.37500e+03, 8.02500e+03, 2.00000e+04,\n",
       "       9.30000e+03, 9.17500e+03, 1.54000e+03, 9.85000e+03, 2.17000e+03,\n",
       "       9.50000e+01, 2.94500e+04, 8.62500e+03, 2.73000e+04, 8.72500e+03,\n",
       "       2.00000e+05, 3.40000e+02, 1.93000e+03, 2.91500e+03, 9.25000e+03,\n",
       "       3.50000e+04, 1.03000e+04, 3.05500e+03, 3.22000e+03, 2.73000e+03,\n",
       "       9.05000e+03, 9.40000e+02, 1.40000e+02, 1.45500e+04, 8.82500e+03,\n",
       "       3.06750e+04, 3.16000e+03, 3.55000e+02, 1.98500e+04, 3.85000e+02,\n",
       "       3.50000e+01, 4.05000e+02, 3.05000e+02, 5.10000e+02, 1.50000e+01,\n",
       "       9.60000e+03, 8.35000e+03, 9.52500e+03, 1.01000e+04, 2.48000e+04,\n",
       "       1.06250e+04, 9.55000e+03, 2.60000e+02, 1.76500e+04, 1.70500e+04,\n",
       "       4.80000e+02, 4.65000e+02, 9.80000e+03, 1.15000e+02, 1.78500e+03,\n",
       "       2.53000e+03, 9.22500e+03, 1.85000e+02, 8.37500e+03, 1.29000e+03,\n",
       "       1.55000e+02, 8.80000e+03, 1.20000e+02, 1.02500e+04, 2.10000e+02,\n",
       "       9.82500e+03, 2.79750e+04, 1.70500e+03, 3.83250e+04, 9.02500e+03,\n",
       "       1.55250e+04, 1.13000e+04, 9.47500e+03, 1.20000e+04, 2.32750e+04,\n",
       "       1.01250e+04, 1.86500e+03, 4.95250e+04, 3.96500e+03, 1.35000e+02,\n",
       "       6.00000e+01, 1.24750e+04, 1.05500e+04, 1.27500e+04, 2.02750e+04,\n",
       "       1.60000e+04, 1.28500e+03, 2.70000e+04, 7.35000e+02, 1.68000e+03,\n",
       "       1.62000e+04, 4.94000e+04, 1.73500e+04, 1.15750e+04, 1.36775e+05,\n",
       "       2.88000e+03, 4.50000e+04, 5.00000e+05, 2.30000e+02, 3.12000e+03,\n",
       "       2.00000e+01, 1.69750e+04, 1.06000e+04, 1.89000e+03, 1.80000e+05,\n",
       "       4.00000e+01, 2.39500e+04, 3.00000e+04, 1.04250e+04, 4.99500e+04,\n",
       "       9.37500e+03, 1.09500e+04, 1.30000e+04, 1.08000e+04, 1.21500e+03,\n",
       "       3.44500e+03, 1.30000e+02, 1.06500e+04, 2.99500e+03, 7.00000e+04,\n",
       "       3.10000e+02, 6.01000e+03, 1.00000e+01, 2.51000e+03, 2.15500e+04,\n",
       "       1.02750e+04, 3.54750e+04, 1.05750e+04, 3.95000e+02, 5.00000e+00,\n",
       "       1.46750e+04, 1.50500e+03, 1.58250e+04, 2.55000e+04, 4.99250e+04,\n",
       "       3.80750e+04, 9.00000e+01, 7.85000e+02, 1.47250e+04, 1.38250e+04,\n",
       "       2.20000e+02, 1.34500e+03, 4.98000e+04, 1.16750e+04, 9.72500e+03,\n",
       "       1.27000e+04, 1.10000e+02, 1.23000e+03, 1.38500e+03, 1.05000e+02,\n",
       "       2.54000e+03, 1.19000e+03, 7.50000e+04, 1.24500e+03, 2.05000e+02,\n",
       "       1.21000e+04, 1.48000e+04, 1.40000e+04, 6.95000e+02, 4.23250e+04,\n",
       "       2.40000e+04, 1.23750e+04, 1.66750e+04, 1.08750e+04, 6.00000e+04,\n",
       "       1.34000e+04, 1.16000e+03, 3.80000e+04, 9.65000e+02, 1.80500e+04,\n",
       "       1.22250e+04, 2.90500e+04, 5.81000e+03, 8.20000e+02, 1.12500e+04,\n",
       "       4.17775e+05, 9.05000e+02, 2.45000e+02, 2.59000e+03, 2.31500e+04,\n",
       "       1.19250e+04, 1.25000e+05, 6.17000e+03, 9.65000e+03, 2.93750e+04,\n",
       "       1.74750e+04, 1.87250e+04, 3.20000e+04, 4.92500e+04, 2.50500e+03,\n",
       "       5.70000e+04, 2.38500e+04, 7.55000e+02, 1.10250e+04, 2.67500e+04,\n",
       "       4.56500e+03, 2.90000e+02, 1.29250e+04, 1.13750e+04, 1.01000e+03,\n",
       "       1.52500e+04, 1.10500e+03, 1.53000e+04, 1.70000e+04, 4.08375e+05,\n",
       "       2.64500e+03, 2.97000e+03, 9.45000e+02, 4.72000e+03, 6.65000e+02,\n",
       "       3.87000e+03, 1.39250e+04, 1.03500e+04, 1.06750e+04, 1.47000e+04,\n",
       "       9.20000e+02, 5.95500e+04, 8.85000e+02, 1.10000e+04, 2.08500e+03,\n",
       "       1.84500e+03, 1.42000e+04, 1.20250e+04, 1.11250e+04, 1.01500e+04,\n",
       "       3.70000e+02, 4.24100e+05, 1.36000e+04, 9.30000e+02, 8.50000e+01,\n",
       "       2.44500e+04, 1.30750e+04, 2.83250e+04, 2.46500e+04, 3.65000e+02,\n",
       "       4.30000e+02, 1.00250e+04, 2.10500e+03, 2.51750e+04, 1.32750e+04,\n",
       "       3.60000e+04, 1.57750e+04, 1.99500e+04, 8.05000e+02, 3.20000e+02,\n",
       "       6.42000e+04, 2.78250e+04, 8.00000e+01, 1.31500e+04, 1.59750e+04,\n",
       "       2.61000e+03, 1.20500e+03, 1.62000e+03, 2.58000e+03, 1.50000e+05,\n",
       "       2.95500e+03, 1.98750e+04, 3.74250e+04, 1.63500e+04, 1.21250e+04,\n",
       "       5.28000e+03, 1.39750e+04, 1.48500e+03, 5.80000e+02, 4.15000e+02,\n",
       "       3.48000e+03, 1.95000e+02, 2.29500e+04, 1.17750e+04, 2.35000e+02,\n",
       "       1.18000e+03, 1.23250e+04, 1.54750e+04, 4.34500e+03, 2.49825e+05,\n",
       "       3.01000e+04, 3.34500e+03, 3.02000e+03, 2.69750e+04, 2.53750e+04,\n",
       "       1.45000e+04, 1.38750e+04, 1.11750e+04, 3.55225e+05, 2.25000e+04,\n",
       "       1.64000e+04, 4.94500e+03, 1.24000e+04, 2.83500e+03, 7.00000e+01,\n",
       "       2.85500e+03, 3.90000e+02, 1.03750e+04, 1.37000e+04, 1.24000e+03,\n",
       "       2.01250e+04, 1.75000e+04, 2.31000e+04, 8.70500e+04, 1.56500e+03,\n",
       "       2.75500e+03, 3.66500e+03, 4.99975e+05, 2.32500e+04, 1.44000e+04,\n",
       "       1.62750e+04, 1.59500e+04, 4.20000e+02, 1.08000e+03, 1.84000e+03,\n",
       "       4.99750e+04, 3.54000e+03, 1.43000e+04, 1.57500e+04, 1.25500e+04,\n",
       "       1.05000e+04, 5.95000e+02, 1.34250e+04, 1.28250e+04, 4.17000e+04,\n",
       "       1.56000e+04, 1.90000e+02, 1.41000e+04, 5.65000e+02, 1.23000e+04,\n",
       "       9.80000e+02, 1.65000e+02, 1.22750e+04, 2.11500e+03])"
      ]
     },
     "execution_count": 72,
     "metadata": {},
     "output_type": "execute_result"
    }
   ],
   "source": [
    "loan_copy['FUNDED_AMOUNT'].unique()"
   ]
  }
 ],
 "metadata": {
  "kernelspec": {
   "display_name": "Python 3",
   "language": "python",
   "name": "python3"
  },
  "language_info": {
   "codemirror_mode": {
    "name": "ipython",
    "version": 3
   },
   "file_extension": ".py",
   "mimetype": "text/x-python",
   "name": "python",
   "nbconvert_exporter": "python",
   "pygments_lexer": "ipython3",
   "version": "3.8.5"
  }
 },
 "nbformat": 4,
 "nbformat_minor": 4
}
